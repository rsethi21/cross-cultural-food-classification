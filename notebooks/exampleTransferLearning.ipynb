{
  "nbformat": 4,
  "nbformat_minor": 0,
  "metadata": {
    "colab": {
      "provenance": [],
      "collapsed_sections": [],
      "authorship_tag": "ABX9TyOr/OZWAdyfjxBbeIdFQh27",
      "include_colab_link": true
    },
    "kernelspec": {
      "name": "python3",
      "display_name": "Python 3"
    },
    "language_info": {
      "name": "python"
    }
  },
  "cells": [
    {
      "cell_type": "markdown",
      "metadata": {
        "id": "view-in-github",
        "colab_type": "text"
      },
      "source": [
        "<a href=\"https://colab.research.google.com/github/rsethi21/transfer_learning/blob/main/TestTransferLearning.ipynb\" target=\"_parent\"><img src=\"https://colab.research.google.com/assets/colab-badge.svg\" alt=\"Open In Colab\"/></a>"
      ]
    },
    {
      "cell_type": "markdown",
      "source": [
        "Following notebook is modified from the guide: https://www.tensorflow.org/tutorials/images/transfer_learning, https://www.youtube.com/watch?v=LsdxvjLWkIY"
      ],
      "metadata": {
        "id": "wjkgtE0Vet6X"
      }
    },
    {
      "cell_type": "markdown",
      "source": [
        "# Imports"
      ],
      "metadata": {
        "id": "3mjLI4JvSgcw"
      }
    },
    {
      "cell_type": "code",
      "execution_count": null,
      "metadata": {
        "id": "euXynWY_bq5y"
      },
      "outputs": [],
      "source": [
        "# imports\n",
        "import matplotlib.pyplot as plt\n",
        "import numpy as np\n",
        "import os\n",
        "import tensorflow as tf\n",
        "import cv2\n",
        "from tensorflow.keras.applications import imagenet_utils\n",
        "import pathlib\n",
        "import sklearn\n",
        "import tensorflow_hub as hub\n",
        "import random\n",
        "import pandas as pd"
      ]
    },
    {
      "cell_type": "markdown",
      "source": [
        "# Data Download and Preprocessing"
      ],
      "metadata": {
        "id": "W73h9WEOSk4K"
      }
    },
    {
      "cell_type": "code",
      "source": [
        "# download datasets and separate into train and validation sets (already done but otherwise will simply use train,test split)\n",
        "_URL = 'https://storage.googleapis.com/download.tensorflow.org/example_images/flower_photos.tgz'\n",
        "data_dir = tf.keras.utils.get_file(origin=_URL,\n",
        "                                   fname='flower_photos',\n",
        "                                   untar=True, cache_dir='.')\n",
        "data_dir = pathlib.Path(data_dir)\n",
        "# train_dir = os.path.join(PATH, 'train')\n",
        "# validation_dir = os.path.join(PATH, 'validation')"
      ],
      "metadata": {
        "colab": {
          "base_uri": "https://localhost:8080/"
        },
        "id": "tpvExtctcEho",
        "outputId": "2f46299e-a857-42c2-cee5-f8d680df2989"
      },
      "execution_count": null,
      "outputs": [
        {
          "output_type": "stream",
          "name": "stdout",
          "text": [
            "Downloading data from https://storage.googleapis.com/download.tensorflow.org/example_images/flower_photos.tgz\n",
            "228813984/228813984 [==============================] - 3s 0us/step\n"
          ]
        }
      ]
    },
    {
      "cell_type": "code",
      "source": [
        "# Data preprocessing\n",
        "class_names = list(os.listdir(data_dir))\n",
        "class_names.remove('LICENSE.txt')\n",
        "flowers_image_dict = {\n",
        "    name: list(data_dir.glob(f'{name}/*')) for name in class_names\n",
        "}\n",
        "flowers_labels_dict = {\n",
        "    class_names[i]: i for i in range(len(class_names))\n",
        "}"
      ],
      "metadata": {
        "id": "WYWdJcE1Svau"
      },
      "execution_count": null,
      "outputs": []
    },
    {
      "cell_type": "code",
      "source": [
        "#visualize a sample training image\n",
        "IMG_SIZE = (224, 224)\n",
        "X, y = [], []\n",
        "for flower_name, images in flowers_image_dict.items():\n",
        "  for image in images:\n",
        "    img = cv2.imread(str(image))\n",
        "    resized_img = cv2.resize(img, IMG_SIZE)\n",
        "    X.append(resized_img)\n",
        "    y.append(flowers_labels_dict[flower_name])"
      ],
      "metadata": {
        "id": "ToSbkLLpcs8M"
      },
      "execution_count": null,
      "outputs": []
    },
    {
      "cell_type": "code",
      "source": [
        "# split dataset into train, test, val\n",
        "X = np.array(X)\n",
        "y = np.array(y)\n",
        "from sklearn.model_selection import train_test_split\n",
        "X_train, X_test, y_train, y_test = train_test_split(X, y, test_size=0.2, random_state = 0, shuffle=True)\n",
        "X_train, X_val, y_train, y_val = train_test_split(X_train, y_train, test_size=0.1, random_state=0, shuffle=True)\n",
        "X_train_scaled = X_train/225.0\n",
        "X_test_scaled = X_test/255.0"
      ],
      "metadata": {
        "id": "Zqm8x6OiYE43"
      },
      "execution_count": null,
      "outputs": []
    },
    {
      "cell_type": "markdown",
      "source": [
        "# Example PTM Performance Prior to Transfer"
      ],
      "metadata": {
        "id": "tdJnne_dSrnt"
      }
    },
    {
      "cell_type": "code",
      "source": [
        "# download pretrained model for control comparisons\n",
        "IMG_SHAPE = IMG_SIZE+(3,)\n",
        "full_model = tf.keras.applications.MobileNetV2(input_shape=IMG_SHAPE, include_top=True,\n",
        "                                               weights='imagenet')"
      ],
      "metadata": {
        "id": "HNGp0nbIIt-V",
        "colab": {
          "base_uri": "https://localhost:8080/"
        },
        "outputId": "c1f1d1c4-b6de-4039-b6fa-51111d797a25"
      },
      "execution_count": null,
      "outputs": [
        {
          "output_type": "stream",
          "name": "stdout",
          "text": [
            "Downloading data from https://storage.googleapis.com/tensorflow/keras-applications/mobilenet_v2/mobilenet_v2_weights_tf_dim_ordering_tf_kernels_1.0_224.h5\n",
            "14536120/14536120 [==============================] - 0s 0us/step\n"
          ]
        }
      ]
    },
    {
      "cell_type": "code",
      "source": [
        "predicted = full_model.predict(np.array([X_train_scaled[0], X_train_scaled[23]]))\n",
        "results = imagenet_utils.decode_predictions(predicted)\n",
        "print(results)\n",
        "for result in results:\n",
        "  scores = []\n",
        "  for prediction in result:\n",
        "    scores.append(float(prediction[2].item()))\n",
        "  max_score = max(scores)\n",
        "  max_index = scores.index(max_score)\n",
        "  print(result[max_index])\n",
        "print(y_train[0])\n",
        "print(y_train[23])\n",
        "print(flowers_labels_dict)"
      ],
      "metadata": {
        "colab": {
          "base_uri": "https://localhost:8080/"
        },
        "id": "m0FLrpDDJIfc",
        "outputId": "b1d1e1af-97bc-4394-ba5d-d858b79f39fd"
      },
      "execution_count": null,
      "outputs": [
        {
          "output_type": "stream",
          "name": "stdout",
          "text": [
            "1/1 [==============================] - 1s 1s/step\n",
            "Downloading data from https://storage.googleapis.com/download.tensorflow.org/data/imagenet_class_index.json\n",
            "35363/35363 [==============================] - 0s 0us/step\n",
            "[[('n01494475', 'hammerhead', 0.22574307), ('n03944341', 'pinwheel', 0.21009746), ('n02317335', 'starfish', 0.048465464), ('n04552348', 'warplane', 0.021277947), ('n04592741', 'wing', 0.019486705)], [('n03485794', 'handkerchief', 0.20947656), ('n07714571', 'head_cabbage', 0.19468735), ('n04209133', 'shower_cap', 0.049777754), ('n04525038', 'velvet', 0.044048462), ('n02892767', 'brassiere', 0.031819213)]]\n",
            "('n01494475', 'hammerhead', 0.22574307)\n",
            "('n03485794', 'handkerchief', 0.20947656)\n",
            "3\n",
            "4\n",
            "{'sunflowers': 0, 'dandelion': 1, 'daisy': 2, 'tulips': 3, 'roses': 4}\n"
          ]
        }
      ]
    },
    {
      "cell_type": "markdown",
      "source": [
        "# Set-up an Train Transfer Model"
      ],
      "metadata": {
        "id": "mog2yU3XSzqD"
      }
    },
    {
      "cell_type": "code",
      "source": [
        "# Create the base model from the pre-trained model MobileNet V2\n",
        "IMG_SHAPE = IMG_SIZE + (3,)\n",
        "base_model = hub.KerasLayer('https://tfhub.dev/google/tf2-preview/mobilenet_v2/feature_vector/4', input_shape=IMG_SHAPE, trainable=False)"
      ],
      "metadata": {
        "id": "MxfD6f5UIRoB"
      },
      "execution_count": null,
      "outputs": []
    },
    {
      "cell_type": "code",
      "source": [
        "prediction_layer = tf.keras.layers.Dense(len(class_names))"
      ],
      "metadata": {
        "id": "vRuHJMSWQJZC"
      },
      "execution_count": null,
      "outputs": []
    },
    {
      "cell_type": "code",
      "source": [
        "# build model to incorporate new head and preprocessor module\n",
        "transfer_model = tf.keras.Sequential([base_model, prediction_layer])\n",
        "transfer_model.summary()"
      ],
      "metadata": {
        "id": "S9RbPew6qd03",
        "colab": {
          "base_uri": "https://localhost:8080/"
        },
        "outputId": "2cc450db-c7f0-47c3-cea2-add7b190921d"
      },
      "execution_count": null,
      "outputs": [
        {
          "output_type": "stream",
          "name": "stdout",
          "text": [
            "Model: \"sequential\"\n",
            "_________________________________________________________________\n",
            " Layer (type)                Output Shape              Param #   \n",
            "=================================================================\n",
            " keras_layer (KerasLayer)    (None, 1280)              2257984   \n",
            "                                                                 \n",
            " dense (Dense)               (None, 5)                 6405      \n",
            "                                                                 \n",
            "=================================================================\n",
            "Total params: 2,264,389\n",
            "Trainable params: 6,405\n",
            "Non-trainable params: 2,257,984\n",
            "_________________________________________________________________\n"
          ]
        }
      ]
    },
    {
      "cell_type": "code",
      "source": [
        "base_learning_rate = 0.0001\n",
        "transfer_model.compile(optimizer=tf.keras.optimizers.Adam(learning_rate=base_learning_rate),\n",
        "              loss=tf.keras.losses.SparseCategoricalCrossentropy(from_logits=True),\n",
        "              metrics=['accuracy'])"
      ],
      "metadata": {
        "id": "OkYT4tWDIeY3"
      },
      "execution_count": null,
      "outputs": []
    },
    {
      "cell_type": "code",
      "source": [
        "transfer_model.fit(X_train_scaled, y_train, epochs=8, validation_data=(X_test_scaled, y_test))"
      ],
      "metadata": {
        "colab": {
          "base_uri": "https://localhost:8080/"
        },
        "id": "NmbYNdM1KTpA",
        "outputId": "99678e0a-8325-4e40-ea3c-f3b6c813040a"
      },
      "execution_count": null,
      "outputs": [
        {
          "output_type": "stream",
          "name": "stdout",
          "text": [
            "Epoch 1/8\n",
            "83/83 [==============================] - 90s 1s/step - loss: 1.7278 - accuracy: 0.2642 - val_loss: 1.4162 - val_accuracy: 0.3978\n",
            "Epoch 2/8\n",
            "83/83 [==============================] - 87s 1s/step - loss: 1.2335 - accuracy: 0.5363 - val_loss: 1.0718 - val_accuracy: 0.6253\n",
            "Epoch 3/8\n",
            "83/83 [==============================] - 86s 1s/step - loss: 0.9725 - accuracy: 0.6631 - val_loss: 0.8788 - val_accuracy: 0.7098\n",
            "Epoch 4/8\n",
            "83/83 [==============================] - 87s 1s/step - loss: 0.8186 - accuracy: 0.7252 - val_loss: 0.7624 - val_accuracy: 0.7452\n",
            "Epoch 5/8\n",
            "83/83 [==============================] - 86s 1s/step - loss: 0.7197 - accuracy: 0.7657 - val_loss: 0.6852 - val_accuracy: 0.7820\n",
            "Epoch 6/8\n",
            "83/83 [==============================] - 88s 1s/step - loss: 0.6484 - accuracy: 0.7956 - val_loss: 0.6273 - val_accuracy: 0.8038\n",
            "Epoch 7/8\n",
            "83/83 [==============================] - 87s 1s/step - loss: 0.5963 - accuracy: 0.8058 - val_loss: 0.5852 - val_accuracy: 0.8202\n",
            "Epoch 8/8\n",
            "83/83 [==============================] - 88s 1s/step - loss: 0.5555 - accuracy: 0.8198 - val_loss: 0.5561 - val_accuracy: 0.8256\n"
          ]
        },
        {
          "output_type": "execute_result",
          "data": {
            "text/plain": [
              "<keras.callbacks.History at 0x7fd513455150>"
            ]
          },
          "metadata": {},
          "execution_count": 12
        }
      ]
    },
    {
      "cell_type": "markdown",
      "source": [
        "# Transfer Model and PTM Model Evaluation on Test Set"
      ],
      "metadata": {
        "id": "_bEcZAqYS8yC"
      }
    },
    {
      "cell_type": "code",
      "source": [
        "comp_dict = {value: key for key, value in flowers_labels_dict.items()}\n",
        "y_val_labels = [comp_dict[val] for val in y_val]"
      ],
      "metadata": {
        "id": "1f2QQCEUgl_S"
      },
      "execution_count": null,
      "outputs": []
    },
    {
      "cell_type": "code",
      "source": [
        "pre_trained_predictions = full_model.predict(np.array(X_val)/255.0)\n",
        "pre_trained_processed_predictions = imagenet_utils.decode_predictions(pre_trained_predictions)\n",
        "initial_pred = []\n",
        "for result in pre_trained_processed_predictions:\n",
        "  scores = []\n",
        "  for prediction in result:\n",
        "    scores.append(float(prediction[2].item()))\n",
        "  max_score = max(scores)\n",
        "  max_index = scores.index(max_score)\n",
        "  initial_pred.append(result[max_index][1])"
      ],
      "metadata": {
        "colab": {
          "base_uri": "https://localhost:8080/"
        },
        "id": "n8zy8oNupvKL",
        "outputId": "b27a5ef0-0bda-4f6d-b303-334984604dbb"
      },
      "execution_count": null,
      "outputs": [
        {
          "output_type": "stream",
          "name": "stdout",
          "text": [
            "10/10 [==============================] - 9s 807ms/step\n"
          ]
        }
      ]
    },
    {
      "cell_type": "code",
      "source": [
        "from sklearn.metrics import classification_report"
      ],
      "metadata": {
        "id": "cUt31fovnYun"
      },
      "execution_count": null,
      "outputs": []
    },
    {
      "cell_type": "code",
      "source": [
        "print(classification_report(y_val_labels, initial_pred))"
      ],
      "metadata": {
        "colab": {
          "base_uri": "https://localhost:8080/"
        },
        "id": "ntvu1mXKoIQx",
        "outputId": "556092c2-cddd-4ed4-aa9d-1a9df4c2b7be"
      },
      "execution_count": null,
      "outputs": [
        {
          "output_type": "stream",
          "name": "stdout",
          "text": [
            "                       precision    recall  f1-score   support\n",
            "\n",
            "               Angora       0.00      0.00      0.00         0\n",
            "   Bedlington_terrier       0.00      0.00      0.00         0\n",
            "       English_setter       0.00      0.00      0.00         0\n",
            "          Persian_cat       0.00      0.00      0.00         0\n",
            "                  alp       0.00      0.00      0.00         0\n",
            "          barn_spider       0.00      0.00      0.00         0\n",
            "             bassinet       0.00      0.00      0.00         0\n",
            "          bathing_cap       0.00      0.00      0.00         0\n",
            "                  bee       0.00      0.00      0.00         0\n",
            "          bell_pepper       0.00      0.00      0.00         0\n",
            "               bonnet       0.00      0.00      0.00         0\n",
            "          book_jacket       0.00      0.00      0.00         0\n",
            "          brain_coral       0.00      0.00      0.00         0\n",
            "               bubble       0.00      0.00      0.00         0\n",
            "    cabbage_butterfly       0.00      0.00      0.00         0\n",
            "               candle       0.00      0.00      0.00         0\n",
            "              cardoon       0.00      0.00      0.00         0\n",
            "          cauliflower       0.00      0.00      0.00         0\n",
            "            chickadee       0.00      0.00      0.00         0\n",
            "                 clog       0.00      0.00      0.00         0\n",
            "                 coil       0.00      0.00      0.00         0\n",
            "                conch       0.00      0.00      0.00         0\n",
            "         coral_fungus       0.00      0.00      0.00         0\n",
            "           coral_reef       0.00      0.00      0.00         0\n",
            "                 corn       0.00      0.00      0.00         0\n",
            "                daisy       0.55      0.65      0.60        52\n",
            "            dandelion       0.00      0.00      0.00        76\n",
            "              dishrag       0.00      0.00      0.00         0\n",
            "                 dome       0.00      0.00      0.00         0\n",
            "               dugong       0.00      0.00      0.00         0\n",
            "             envelope       0.00      0.00      0.00         0\n",
            "          feather_boa       0.00      0.00      0.00         0\n",
            "             flagpole       0.00      0.00      0.00         0\n",
            "             fountain       0.00      0.00      0.00         0\n",
            "          grasshopper       0.00      0.00      0.00         0\n",
            "           hair_slide       0.00      0.00      0.00         0\n",
            "         handkerchief       0.00      0.00      0.00         0\n",
            "           harvestman       0.00      0.00      0.00         0\n",
            "         head_cabbage       0.00      0.00      0.00         0\n",
            "                  hip       0.00      0.00      0.00         0\n",
            "          hummingbird       0.00      0.00      0.00         0\n",
            "       indigo_bunting       0.00      0.00      0.00         0\n",
            "            jackfruit       0.00      0.00      0.00         0\n",
            "                  jay       0.00      0.00      0.00         0\n",
            "            jellyfish       0.00      0.00      0.00         0\n",
            "        jigsaw_puzzle       0.00      0.00      0.00         0\n",
            "           jinrikisha       0.00      0.00      0.00         0\n",
            "             lacewing       0.00      0.00      0.00         0\n",
            "             lakeside       0.00      0.00      0.00         0\n",
            "            lampshade       0.00      0.00      0.00         0\n",
            "           matchstick       0.00      0.00      0.00         0\n",
            "                 maze       0.00      0.00      0.00         0\n",
            "             mushroom       0.00      0.00      0.00         0\n",
            "               nipple       0.00      0.00      0.00         0\n",
            "            overskirt       0.00      0.00      0.00         0\n",
            "          oxygen_mask       0.00      0.00      0.00         0\n",
            "           park_bench       0.00      0.00      0.00         0\n",
            "              peacock       0.00      0.00      0.00         0\n",
            "             pedestal       0.00      0.00      0.00         0\n",
            "                 pick       0.00      0.00      0.00         0\n",
            "         picket_fence       0.00      0.00      0.00         0\n",
            "             pinwheel       0.00      0.00      0.00         0\n",
            "          plastic_bag       0.00      0.00      0.00         0\n",
            "               poncho       0.00      0.00      0.00         0\n",
            "           pop_bottle       0.00      0.00      0.00         0\n",
            "                  pot       0.00      0.00      0.00         0\n",
            "               prison       0.00      0.00      0.00         0\n",
            "                quill       0.00      0.00      0.00         0\n",
            "             rapeseed       0.00      0.00      0.00         0\n",
            "                roses       0.00      0.00      0.00        45\n",
            "         running_shoe       0.00      0.00      0.00         0\n",
            "           safety_pin       0.00      0.00      0.00         0\n",
            "               screen       0.00      0.00      0.00         0\n",
            "                screw       0.00      0.00      0.00         0\n",
            "          sea_anemone       0.00      0.00      0.00         0\n",
            "             sea_slug       0.00      0.00      0.00         0\n",
            "           sea_urchin       0.00      0.00      0.00         0\n",
            "           shower_cap       0.00      0.00      0.00         0\n",
            "       shower_curtain       0.00      0.00      0.00         0\n",
            "         sliding_door       0.00      0.00      0.00         0\n",
            "                snail       0.00      0.00      0.00         0\n",
            "           snowmobile       0.00      0.00      0.00         0\n",
            "           spider_web       0.00      0.00      0.00         0\n",
            "           stone_wall       0.00      0.00      0.00         0\n",
            "             strainer       0.00      0.00      0.00         0\n",
            "            submarine       0.00      0.00      0.00         0\n",
            "           sunflowers       0.00      0.00      0.00        53\n",
            "                 swab       0.00      0.00      0.00         0\n",
            "               tulips       0.00      0.00      0.00        68\n",
            "  typewriter_keyboard       0.00      0.00      0.00         0\n",
            "                 vase       0.00      0.00      0.00         0\n",
            "               velvet       0.00      0.00      0.00         0\n",
            "              volcano       0.00      0.00      0.00         0\n",
            "           wall_clock       0.00      0.00      0.00         0\n",
            "                 wool       0.00      0.00      0.00         0\n",
            "yellow_lady's_slipper       0.00      0.00      0.00         0\n",
            "\n",
            "             accuracy                           0.12       294\n",
            "            macro avg       0.01      0.01      0.01       294\n",
            "         weighted avg       0.10      0.12      0.11       294\n",
            "\n"
          ]
        },
        {
          "output_type": "stream",
          "name": "stderr",
          "text": [
            "/usr/local/lib/python3.7/dist-packages/sklearn/metrics/_classification.py:1318: UndefinedMetricWarning: Precision and F-score are ill-defined and being set to 0.0 in labels with no predicted samples. Use `zero_division` parameter to control this behavior.\n",
            "  _warn_prf(average, modifier, msg_start, len(result))\n",
            "/usr/local/lib/python3.7/dist-packages/sklearn/metrics/_classification.py:1318: UndefinedMetricWarning: Recall and F-score are ill-defined and being set to 0.0 in labels with no true samples. Use `zero_division` parameter to control this behavior.\n",
            "  _warn_prf(average, modifier, msg_start, len(result))\n",
            "/usr/local/lib/python3.7/dist-packages/sklearn/metrics/_classification.py:1318: UndefinedMetricWarning: Precision and F-score are ill-defined and being set to 0.0 in labels with no predicted samples. Use `zero_division` parameter to control this behavior.\n",
            "  _warn_prf(average, modifier, msg_start, len(result))\n",
            "/usr/local/lib/python3.7/dist-packages/sklearn/metrics/_classification.py:1318: UndefinedMetricWarning: Recall and F-score are ill-defined and being set to 0.0 in labels with no true samples. Use `zero_division` parameter to control this behavior.\n",
            "  _warn_prf(average, modifier, msg_start, len(result))\n",
            "/usr/local/lib/python3.7/dist-packages/sklearn/metrics/_classification.py:1318: UndefinedMetricWarning: Precision and F-score are ill-defined and being set to 0.0 in labels with no predicted samples. Use `zero_division` parameter to control this behavior.\n",
            "  _warn_prf(average, modifier, msg_start, len(result))\n",
            "/usr/local/lib/python3.7/dist-packages/sklearn/metrics/_classification.py:1318: UndefinedMetricWarning: Recall and F-score are ill-defined and being set to 0.0 in labels with no true samples. Use `zero_division` parameter to control this behavior.\n",
            "  _warn_prf(average, modifier, msg_start, len(result))\n"
          ]
        }
      ]
    },
    {
      "cell_type": "code",
      "source": [
        "confusion_matrix_pre = sklearn.metrics.confusion_matrix(y_val_labels, initial_pred, labels=class_names)"
      ],
      "metadata": {
        "id": "tVWv3jvabdix"
      },
      "execution_count": null,
      "outputs": []
    },
    {
      "cell_type": "code",
      "source": [
        "pd.DataFrame(confusion_matrix_pre, index=[f'is {class_name}' for class_name in class_names], columns=[f'predicted {class_name}' for class_name in class_names])"
      ],
      "metadata": {
        "colab": {
          "base_uri": "https://localhost:8080/",
          "height": 206
        },
        "id": "QMG3OTBHmlao",
        "outputId": "f34ca2a1-63fa-438a-8ef3-a3f460e22dad"
      },
      "execution_count": null,
      "outputs": [
        {
          "output_type": "execute_result",
          "data": {
            "text/plain": [
              "               predicted sunflowers  predicted dandelion  predicted daisy  \\\n",
              "is sunflowers                     0                    0               16   \n",
              "is dandelion                      0                    0                4   \n",
              "is daisy                          0                    0               34   \n",
              "is tulips                         0                    0                8   \n",
              "is roses                          0                    0                0   \n",
              "\n",
              "               predicted tulips  predicted roses  \n",
              "is sunflowers                 0                0  \n",
              "is dandelion                  0                0  \n",
              "is daisy                      0                0  \n",
              "is tulips                     0                0  \n",
              "is roses                      0                0  "
            ],
            "text/html": [
              "\n",
              "  <div id=\"df-d82ad404-3f80-4967-9a38-b3e6b2eb1fa0\">\n",
              "    <div class=\"colab-df-container\">\n",
              "      <div>\n",
              "<style scoped>\n",
              "    .dataframe tbody tr th:only-of-type {\n",
              "        vertical-align: middle;\n",
              "    }\n",
              "\n",
              "    .dataframe tbody tr th {\n",
              "        vertical-align: top;\n",
              "    }\n",
              "\n",
              "    .dataframe thead th {\n",
              "        text-align: right;\n",
              "    }\n",
              "</style>\n",
              "<table border=\"1\" class=\"dataframe\">\n",
              "  <thead>\n",
              "    <tr style=\"text-align: right;\">\n",
              "      <th></th>\n",
              "      <th>predicted sunflowers</th>\n",
              "      <th>predicted dandelion</th>\n",
              "      <th>predicted daisy</th>\n",
              "      <th>predicted tulips</th>\n",
              "      <th>predicted roses</th>\n",
              "    </tr>\n",
              "  </thead>\n",
              "  <tbody>\n",
              "    <tr>\n",
              "      <th>is sunflowers</th>\n",
              "      <td>0</td>\n",
              "      <td>0</td>\n",
              "      <td>16</td>\n",
              "      <td>0</td>\n",
              "      <td>0</td>\n",
              "    </tr>\n",
              "    <tr>\n",
              "      <th>is dandelion</th>\n",
              "      <td>0</td>\n",
              "      <td>0</td>\n",
              "      <td>4</td>\n",
              "      <td>0</td>\n",
              "      <td>0</td>\n",
              "    </tr>\n",
              "    <tr>\n",
              "      <th>is daisy</th>\n",
              "      <td>0</td>\n",
              "      <td>0</td>\n",
              "      <td>34</td>\n",
              "      <td>0</td>\n",
              "      <td>0</td>\n",
              "    </tr>\n",
              "    <tr>\n",
              "      <th>is tulips</th>\n",
              "      <td>0</td>\n",
              "      <td>0</td>\n",
              "      <td>8</td>\n",
              "      <td>0</td>\n",
              "      <td>0</td>\n",
              "    </tr>\n",
              "    <tr>\n",
              "      <th>is roses</th>\n",
              "      <td>0</td>\n",
              "      <td>0</td>\n",
              "      <td>0</td>\n",
              "      <td>0</td>\n",
              "      <td>0</td>\n",
              "    </tr>\n",
              "  </tbody>\n",
              "</table>\n",
              "</div>\n",
              "      <button class=\"colab-df-convert\" onclick=\"convertToInteractive('df-d82ad404-3f80-4967-9a38-b3e6b2eb1fa0')\"\n",
              "              title=\"Convert this dataframe to an interactive table.\"\n",
              "              style=\"display:none;\">\n",
              "        \n",
              "  <svg xmlns=\"http://www.w3.org/2000/svg\" height=\"24px\"viewBox=\"0 0 24 24\"\n",
              "       width=\"24px\">\n",
              "    <path d=\"M0 0h24v24H0V0z\" fill=\"none\"/>\n",
              "    <path d=\"M18.56 5.44l.94 2.06.94-2.06 2.06-.94-2.06-.94-.94-2.06-.94 2.06-2.06.94zm-11 1L8.5 8.5l.94-2.06 2.06-.94-2.06-.94L8.5 2.5l-.94 2.06-2.06.94zm10 10l.94 2.06.94-2.06 2.06-.94-2.06-.94-.94-2.06-.94 2.06-2.06.94z\"/><path d=\"M17.41 7.96l-1.37-1.37c-.4-.4-.92-.59-1.43-.59-.52 0-1.04.2-1.43.59L10.3 9.45l-7.72 7.72c-.78.78-.78 2.05 0 2.83L4 21.41c.39.39.9.59 1.41.59.51 0 1.02-.2 1.41-.59l7.78-7.78 2.81-2.81c.8-.78.8-2.07 0-2.86zM5.41 20L4 18.59l7.72-7.72 1.47 1.35L5.41 20z\"/>\n",
              "  </svg>\n",
              "      </button>\n",
              "      \n",
              "  <style>\n",
              "    .colab-df-container {\n",
              "      display:flex;\n",
              "      flex-wrap:wrap;\n",
              "      gap: 12px;\n",
              "    }\n",
              "\n",
              "    .colab-df-convert {\n",
              "      background-color: #E8F0FE;\n",
              "      border: none;\n",
              "      border-radius: 50%;\n",
              "      cursor: pointer;\n",
              "      display: none;\n",
              "      fill: #1967D2;\n",
              "      height: 32px;\n",
              "      padding: 0 0 0 0;\n",
              "      width: 32px;\n",
              "    }\n",
              "\n",
              "    .colab-df-convert:hover {\n",
              "      background-color: #E2EBFA;\n",
              "      box-shadow: 0px 1px 2px rgba(60, 64, 67, 0.3), 0px 1px 3px 1px rgba(60, 64, 67, 0.15);\n",
              "      fill: #174EA6;\n",
              "    }\n",
              "\n",
              "    [theme=dark] .colab-df-convert {\n",
              "      background-color: #3B4455;\n",
              "      fill: #D2E3FC;\n",
              "    }\n",
              "\n",
              "    [theme=dark] .colab-df-convert:hover {\n",
              "      background-color: #434B5C;\n",
              "      box-shadow: 0px 1px 3px 1px rgba(0, 0, 0, 0.15);\n",
              "      filter: drop-shadow(0px 1px 2px rgba(0, 0, 0, 0.3));\n",
              "      fill: #FFFFFF;\n",
              "    }\n",
              "  </style>\n",
              "\n",
              "      <script>\n",
              "        const buttonEl =\n",
              "          document.querySelector('#df-d82ad404-3f80-4967-9a38-b3e6b2eb1fa0 button.colab-df-convert');\n",
              "        buttonEl.style.display =\n",
              "          google.colab.kernel.accessAllowed ? 'block' : 'none';\n",
              "\n",
              "        async function convertToInteractive(key) {\n",
              "          const element = document.querySelector('#df-d82ad404-3f80-4967-9a38-b3e6b2eb1fa0');\n",
              "          const dataTable =\n",
              "            await google.colab.kernel.invokeFunction('convertToInteractive',\n",
              "                                                     [key], {});\n",
              "          if (!dataTable) return;\n",
              "\n",
              "          const docLinkHtml = 'Like what you see? Visit the ' +\n",
              "            '<a target=\"_blank\" href=https://colab.research.google.com/notebooks/data_table.ipynb>data table notebook</a>'\n",
              "            + ' to learn more about interactive tables.';\n",
              "          element.innerHTML = '';\n",
              "          dataTable['output_type'] = 'display_data';\n",
              "          await google.colab.output.renderOutput(dataTable, element);\n",
              "          const docLink = document.createElement('div');\n",
              "          docLink.innerHTML = docLinkHtml;\n",
              "          element.appendChild(docLink);\n",
              "        }\n",
              "      </script>\n",
              "    </div>\n",
              "  </div>\n",
              "  "
            ]
          },
          "metadata": {},
          "execution_count": 40
        }
      ]
    },
    {
      "cell_type": "code",
      "source": [
        "transfer_model_predictions = transfer_model.predict(np.array(X_val)/255.0)\n",
        "transfer_model_predictions\n",
        "tuned_pred = []\n",
        "for result in transfer_model_predictions:\n",
        "  scores = []\n",
        "  for prediction in result:\n",
        "    scores.append(prediction)\n",
        "  max_score = max(scores)\n",
        "  max_index = scores.index(max_score)\n",
        "  tuned_pred.append(comp_dict[max_index])"
      ],
      "metadata": {
        "colab": {
          "base_uri": "https://localhost:8080/"
        },
        "id": "Fg1WwcJaqOI9",
        "outputId": "b821aecf-90bd-4bdd-9c19-35c88015fc89"
      },
      "execution_count": null,
      "outputs": [
        {
          "output_type": "stream",
          "name": "stdout",
          "text": [
            "10/10 [==============================] - 8s 753ms/step\n"
          ]
        }
      ]
    },
    {
      "cell_type": "code",
      "source": [
        "print(classification_report(y_val_labels, tuned_pred))"
      ],
      "metadata": {
        "colab": {
          "base_uri": "https://localhost:8080/"
        },
        "id": "PnOxTLOHoiDt",
        "outputId": "4dc740b4-af8c-40f7-d611-41246db42abe"
      },
      "execution_count": null,
      "outputs": [
        {
          "output_type": "stream",
          "name": "stdout",
          "text": [
            "              precision    recall  f1-score   support\n",
            "\n",
            "       daisy       0.73      0.77      0.75        52\n",
            "   dandelion       0.88      0.89      0.89        76\n",
            "       roses       0.73      0.91      0.81        45\n",
            "  sunflowers       0.80      0.75      0.78        53\n",
            "      tulips       0.89      0.74      0.81        68\n",
            "\n",
            "    accuracy                           0.81       294\n",
            "   macro avg       0.81      0.81      0.81       294\n",
            "weighted avg       0.82      0.81      0.81       294\n",
            "\n"
          ]
        }
      ]
    },
    {
      "cell_type": "code",
      "source": [
        "confusion_matrix_transfer = sklearn.metrics.confusion_matrix(y_val_labels, tuned_pred, labels=class_names)"
      ],
      "metadata": {
        "id": "lZXlXzFrdJqO"
      },
      "execution_count": null,
      "outputs": []
    },
    {
      "cell_type": "code",
      "source": [
        "pd.DataFrame(confusion_matrix_transfer, index=[f'is {class_name}' for class_name in class_names], columns=[f'predicted {class_name}' for class_name in class_names])"
      ],
      "metadata": {
        "colab": {
          "base_uri": "https://localhost:8080/",
          "height": 206
        },
        "id": "RfcWhJ58mmTj",
        "outputId": "20a78607-2584-470a-d2e4-85fcc2a7f446"
      },
      "execution_count": null,
      "outputs": [
        {
          "output_type": "execute_result",
          "data": {
            "text/plain": [
              "               predicted sunflowers  predicted dandelion  predicted daisy  \\\n",
              "is sunflowers                    40                    5                4   \n",
              "is dandelion                      1                   68                6   \n",
              "is daisy                          5                    3               40   \n",
              "is tulips                         3                    1                5   \n",
              "is roses                          1                    0                0   \n",
              "\n",
              "               predicted tulips  predicted roses  \n",
              "is sunflowers                 1                3  \n",
              "is dandelion                  0                1  \n",
              "is daisy                      2                2  \n",
              "is tulips                    50                9  \n",
              "is roses                      3               41  "
            ],
            "text/html": [
              "\n",
              "  <div id=\"df-5f8b98ad-f5a8-49f8-880c-1ae55997617b\">\n",
              "    <div class=\"colab-df-container\">\n",
              "      <div>\n",
              "<style scoped>\n",
              "    .dataframe tbody tr th:only-of-type {\n",
              "        vertical-align: middle;\n",
              "    }\n",
              "\n",
              "    .dataframe tbody tr th {\n",
              "        vertical-align: top;\n",
              "    }\n",
              "\n",
              "    .dataframe thead th {\n",
              "        text-align: right;\n",
              "    }\n",
              "</style>\n",
              "<table border=\"1\" class=\"dataframe\">\n",
              "  <thead>\n",
              "    <tr style=\"text-align: right;\">\n",
              "      <th></th>\n",
              "      <th>predicted sunflowers</th>\n",
              "      <th>predicted dandelion</th>\n",
              "      <th>predicted daisy</th>\n",
              "      <th>predicted tulips</th>\n",
              "      <th>predicted roses</th>\n",
              "    </tr>\n",
              "  </thead>\n",
              "  <tbody>\n",
              "    <tr>\n",
              "      <th>is sunflowers</th>\n",
              "      <td>40</td>\n",
              "      <td>5</td>\n",
              "      <td>4</td>\n",
              "      <td>1</td>\n",
              "      <td>3</td>\n",
              "    </tr>\n",
              "    <tr>\n",
              "      <th>is dandelion</th>\n",
              "      <td>1</td>\n",
              "      <td>68</td>\n",
              "      <td>6</td>\n",
              "      <td>0</td>\n",
              "      <td>1</td>\n",
              "    </tr>\n",
              "    <tr>\n",
              "      <th>is daisy</th>\n",
              "      <td>5</td>\n",
              "      <td>3</td>\n",
              "      <td>40</td>\n",
              "      <td>2</td>\n",
              "      <td>2</td>\n",
              "    </tr>\n",
              "    <tr>\n",
              "      <th>is tulips</th>\n",
              "      <td>3</td>\n",
              "      <td>1</td>\n",
              "      <td>5</td>\n",
              "      <td>50</td>\n",
              "      <td>9</td>\n",
              "    </tr>\n",
              "    <tr>\n",
              "      <th>is roses</th>\n",
              "      <td>1</td>\n",
              "      <td>0</td>\n",
              "      <td>0</td>\n",
              "      <td>3</td>\n",
              "      <td>41</td>\n",
              "    </tr>\n",
              "  </tbody>\n",
              "</table>\n",
              "</div>\n",
              "      <button class=\"colab-df-convert\" onclick=\"convertToInteractive('df-5f8b98ad-f5a8-49f8-880c-1ae55997617b')\"\n",
              "              title=\"Convert this dataframe to an interactive table.\"\n",
              "              style=\"display:none;\">\n",
              "        \n",
              "  <svg xmlns=\"http://www.w3.org/2000/svg\" height=\"24px\"viewBox=\"0 0 24 24\"\n",
              "       width=\"24px\">\n",
              "    <path d=\"M0 0h24v24H0V0z\" fill=\"none\"/>\n",
              "    <path d=\"M18.56 5.44l.94 2.06.94-2.06 2.06-.94-2.06-.94-.94-2.06-.94 2.06-2.06.94zm-11 1L8.5 8.5l.94-2.06 2.06-.94-2.06-.94L8.5 2.5l-.94 2.06-2.06.94zm10 10l.94 2.06.94-2.06 2.06-.94-2.06-.94-.94-2.06-.94 2.06-2.06.94z\"/><path d=\"M17.41 7.96l-1.37-1.37c-.4-.4-.92-.59-1.43-.59-.52 0-1.04.2-1.43.59L10.3 9.45l-7.72 7.72c-.78.78-.78 2.05 0 2.83L4 21.41c.39.39.9.59 1.41.59.51 0 1.02-.2 1.41-.59l7.78-7.78 2.81-2.81c.8-.78.8-2.07 0-2.86zM5.41 20L4 18.59l7.72-7.72 1.47 1.35L5.41 20z\"/>\n",
              "  </svg>\n",
              "      </button>\n",
              "      \n",
              "  <style>\n",
              "    .colab-df-container {\n",
              "      display:flex;\n",
              "      flex-wrap:wrap;\n",
              "      gap: 12px;\n",
              "    }\n",
              "\n",
              "    .colab-df-convert {\n",
              "      background-color: #E8F0FE;\n",
              "      border: none;\n",
              "      border-radius: 50%;\n",
              "      cursor: pointer;\n",
              "      display: none;\n",
              "      fill: #1967D2;\n",
              "      height: 32px;\n",
              "      padding: 0 0 0 0;\n",
              "      width: 32px;\n",
              "    }\n",
              "\n",
              "    .colab-df-convert:hover {\n",
              "      background-color: #E2EBFA;\n",
              "      box-shadow: 0px 1px 2px rgba(60, 64, 67, 0.3), 0px 1px 3px 1px rgba(60, 64, 67, 0.15);\n",
              "      fill: #174EA6;\n",
              "    }\n",
              "\n",
              "    [theme=dark] .colab-df-convert {\n",
              "      background-color: #3B4455;\n",
              "      fill: #D2E3FC;\n",
              "    }\n",
              "\n",
              "    [theme=dark] .colab-df-convert:hover {\n",
              "      background-color: #434B5C;\n",
              "      box-shadow: 0px 1px 3px 1px rgba(0, 0, 0, 0.15);\n",
              "      filter: drop-shadow(0px 1px 2px rgba(0, 0, 0, 0.3));\n",
              "      fill: #FFFFFF;\n",
              "    }\n",
              "  </style>\n",
              "\n",
              "      <script>\n",
              "        const buttonEl =\n",
              "          document.querySelector('#df-5f8b98ad-f5a8-49f8-880c-1ae55997617b button.colab-df-convert');\n",
              "        buttonEl.style.display =\n",
              "          google.colab.kernel.accessAllowed ? 'block' : 'none';\n",
              "\n",
              "        async function convertToInteractive(key) {\n",
              "          const element = document.querySelector('#df-5f8b98ad-f5a8-49f8-880c-1ae55997617b');\n",
              "          const dataTable =\n",
              "            await google.colab.kernel.invokeFunction('convertToInteractive',\n",
              "                                                     [key], {});\n",
              "          if (!dataTable) return;\n",
              "\n",
              "          const docLinkHtml = 'Like what you see? Visit the ' +\n",
              "            '<a target=\"_blank\" href=https://colab.research.google.com/notebooks/data_table.ipynb>data table notebook</a>'\n",
              "            + ' to learn more about interactive tables.';\n",
              "          element.innerHTML = '';\n",
              "          dataTable['output_type'] = 'display_data';\n",
              "          await google.colab.output.renderOutput(dataTable, element);\n",
              "          const docLink = document.createElement('div');\n",
              "          docLink.innerHTML = docLinkHtml;\n",
              "          element.appendChild(docLink);\n",
              "        }\n",
              "      </script>\n",
              "    </div>\n",
              "  </div>\n",
              "  "
            ]
          },
          "metadata": {},
          "execution_count": 44
        }
      ]
    }
  ]
}
